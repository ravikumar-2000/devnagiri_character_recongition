{
 "cells": [
  {
   "cell_type": "code",
   "execution_count": null,
   "id": "78a29bb1",
   "metadata": {
    "colab": {
     "base_uri": "https://localhost:8080/"
    },
    "id": "78a29bb1",
    "outputId": "f66f91f5-eff4-4c5d-f8eb-26f35b4b7237"
   },
   "outputs": [],
   "source": [
    "!python --version\n",
    "!pip --version"
   ]
  },
  {
   "cell_type": "code",
   "execution_count": null,
   "id": "e1c1543b",
   "metadata": {
    "id": "e1c1543b"
   },
   "outputs": [],
   "source": [
    "import cv2\n",
    "import random\n",
    "import numpy as np\n",
    "import pandas as pd\n",
    "from PIL import Image\n",
    "from datetime import datetime\n",
    "import matplotlib.pyplot as plt\n",
    "from sklearn.preprocessing import LabelEncoder\n",
    "\n",
    "import torch\n",
    "import torchvision\n",
    "import torchmetrics\n",
    "import torch.nn as nn\n",
    "import torch.nn.functional as F\n",
    "from torchvision.utils import make_grid\n",
    "import torchvision.transforms as transforms\n",
    "from torch.utils.data import random_split, dataloader, TensorDataset"
   ]
  },
  {
   "cell_type": "code",
   "execution_count": null,
   "id": "3837f422",
   "metadata": {
    "colab": {
     "base_uri": "https://localhost:8080/"
    },
    "id": "3837f422",
    "outputId": "d03c9b5b-495b-4088-b38a-14a782a4da8a"
   },
   "outputs": [],
   "source": [
    "print(torch.__version__)\n",
    "print(torchvision.__version__)"
   ]
  },
  {
   "cell_type": "code",
   "execution_count": null,
   "id": "b2766f73",
   "metadata": {
    "id": "b2766f73"
   },
   "outputs": [],
   "source": [
    "def get_default_device():\n",
    "    if torch.backends.mps.is_available():\n",
    "        return torch.device('mps')\n",
    "    elif torch.cuda.is_available():\n",
    "        return torch.device('cuda')\n",
    "    else:\n",
    "        return torch.device('cpu')"
   ]
  },
  {
   "cell_type": "code",
   "execution_count": null,
   "id": "78435600",
   "metadata": {
    "colab": {
     "base_uri": "https://localhost:8080/"
    },
    "id": "78435600",
    "outputId": "af9d2fb3-93be-411c-d11d-0cdd711564c0"
   },
   "outputs": [],
   "source": [
    "torch.manual_seed(47)\n",
    "device = get_default_device()\n",
    "device"
   ]
  },
  {
   "cell_type": "code",
   "execution_count": null,
   "id": "163c1d82",
   "metadata": {
    "colab": {
     "base_uri": "https://localhost:8080/"
    },
    "id": "163c1d82",
    "outputId": "90ef7a51-4e40-4816-edc4-58f55ee7567d"
   },
   "outputs": [],
   "source": [
    "DATASET_PATH = 'ocr_data/data.csv'\n",
    "INPUT_SIZE = 1024\n",
    "OUTPUT_SIZE = 46\n",
    "EPOCHS = 60\n",
    "MODEL_PATH = f'ocr_trained_model_{datetime.now().date()}.pt'\n",
    "LR = 0.0015\n",
    "BATCH_SIZE = 128\n",
    "PYTORCH_ENABLE_MPS_FALLBACK = 1\n",
    "print(MODEL_PATH)"
   ]
  },
  {
   "cell_type": "code",
   "execution_count": null,
   "id": "68178388",
   "metadata": {
    "colab": {
     "base_uri": "https://localhost:8080/",
     "height": 456
    },
    "id": "68178388",
    "outputId": "6af304ab-18bb-4ad6-ac8a-c38750403c8e"
   },
   "outputs": [],
   "source": [
    "df = pd.read_csv(DATASET_PATH)\n",
    "df.head(10)"
   ]
  },
  {
   "cell_type": "code",
   "execution_count": null,
   "id": "959bb11a",
   "metadata": {
    "colab": {
     "base_uri": "https://localhost:8080/"
    },
    "id": "959bb11a",
    "outputId": "b1532d59-93aa-48a9-f429-7600cdaad9ce"
   },
   "outputs": [],
   "source": [
    "df.shape"
   ]
  },
  {
   "cell_type": "code",
   "execution_count": null,
   "id": "3c8e16e9",
   "metadata": {
    "colab": {
     "base_uri": "https://localhost:8080/"
    },
    "id": "3c8e16e9",
    "outputId": "1a2b23f6-7103-4369-882a-c7a831cfd239"
   },
   "outputs": [],
   "source": [
    "df.character.value_counts()"
   ]
  },
  {
   "cell_type": "code",
   "execution_count": null,
   "id": "3ec7e5e8",
   "metadata": {
    "colab": {
     "base_uri": "https://localhost:8080/",
     "height": 300
    },
    "id": "3ec7e5e8",
    "outputId": "28d189f5-9cde-4d17-de22-af72c7ed16c7"
   },
   "outputs": [],
   "source": [
    "df = df.sample(frac=1)\n",
    "df.tail()"
   ]
  },
  {
   "cell_type": "code",
   "execution_count": null,
   "id": "ebcbe0eb",
   "metadata": {
    "id": "ebcbe0eb"
   },
   "outputs": [],
   "source": [
    "# class_names = np.unique(df.iloc[:, -1].values)\n",
    "# class_names"
   ]
  },
  {
   "cell_type": "code",
   "execution_count": null,
   "id": "6dc94146",
   "metadata": {
    "colab": {
     "base_uri": "https://localhost:8080/"
    },
    "id": "6dc94146",
    "outputId": "157856f9-4040-4b31-c86e-d078dee859fb"
   },
   "outputs": [],
   "source": [
    "X_df = df.iloc[:80000, :-1]\n",
    "Y_df = df.iloc[:80000, -1]\n",
    "print(f'X_df shape => {X_df.shape} | Y_df shape => {Y_df.shape}')"
   ]
  },
  {
   "cell_type": "code",
   "execution_count": null,
   "id": "ec91406a",
   "metadata": {
    "colab": {
     "base_uri": "https://localhost:8080/"
    },
    "id": "ec91406a",
    "outputId": "7c27c997-34d3-43f4-ef3b-3223b2c40bd3"
   },
   "outputs": [],
   "source": [
    "X_df.values[0].shape"
   ]
  },
  {
   "cell_type": "code",
   "execution_count": null,
   "id": "5a0140c1",
   "metadata": {
    "colab": {
     "base_uri": "https://localhost:8080/"
    },
    "id": "5a0140c1",
    "outputId": "c41ac028-842a-473d-d079-6b20f62b564a"
   },
   "outputs": [],
   "source": [
    "X_numpy = X_df.values.reshape(X_df.shape[0], 32, 32, 1)\n",
    "X_numpy.shape"
   ]
  },
  {
   "cell_type": "code",
   "execution_count": null,
   "id": "36463fdd",
   "metadata": {
    "colab": {
     "base_uri": "https://localhost:8080/",
     "height": 266
    },
    "id": "36463fdd",
    "outputId": "8bd70184-7016-484b-877e-4b7e888874c5"
   },
   "outputs": [],
   "source": [
    "plt.imshow(X_numpy[10].squeeze(), cmap='gray')\n",
    "plt.axis('off')"
   ]
  },
  {
   "cell_type": "code",
   "execution_count": null,
   "id": "9b517c2e",
   "metadata": {
    "id": "9b517c2e"
   },
   "outputs": [],
   "source": [
    "def show_examples(data):\n",
    "    fig = plt.figure(figsize=(20, 10))\n",
    "    for i in range(25):\n",
    "        ax = fig.add_subplot(5, 5, i+1)\n",
    "        ax.imshow(data[random.randint(0, 80000)], cmap='gray')\n",
    "        plt.axis('off')"
   ]
  },
  {
   "cell_type": "code",
   "execution_count": null,
   "id": "bbd1dbee",
   "metadata": {
    "colab": {
     "base_uri": "https://localhost:8080/",
     "height": 575
    },
    "id": "bbd1dbee",
    "outputId": "4490b0d1-685c-44c6-a1ea-1c3e2f8217f3"
   },
   "outputs": [],
   "source": [
    "show_examples(X_numpy.squeeze())"
   ]
  },
  {
   "cell_type": "code",
   "execution_count": null,
   "id": "89df6f48",
   "metadata": {
    "colab": {
     "base_uri": "https://localhost:8080/"
    },
    "id": "89df6f48",
    "outputId": "523e9895-18a0-472d-a6a2-b3ee507fd12d"
   },
   "outputs": [],
   "source": [
    "label_encoder = LabelEncoder()\n",
    "Y_numpy = label_encoder.fit_transform(Y_df)\n",
    "class_names = list(label_encoder.classes_)\n",
    "class_names, len(class_names)"
   ]
  },
  {
   "cell_type": "code",
   "execution_count": null,
   "id": "f3cf151e",
   "metadata": {
    "colab": {
     "base_uri": "https://localhost:8080/"
    },
    "id": "f3cf151e",
    "outputId": "0fed8a8c-1517-45a4-a6d7-3959bd67082c"
   },
   "outputs": [],
   "source": [
    "np.unique(Y_numpy)"
   ]
  },
  {
   "cell_type": "code",
   "execution_count": null,
   "id": "68dfd03f",
   "metadata": {
    "id": "68dfd03f"
   },
   "outputs": [],
   "source": [
    "X_torch = torch.tensor(X_numpy, dtype=torch.float32)\n",
    "Y_torch = torch.LongTensor(Y_numpy)"
   ]
  },
  {
   "cell_type": "code",
   "execution_count": null,
   "id": "0604f423",
   "metadata": {
    "colab": {
     "base_uri": "https://localhost:8080/"
    },
    "id": "0604f423",
    "outputId": "10217c30-5f2c-4ede-9492-428edd9bdfe1"
   },
   "outputs": [],
   "source": [
    "X_torch.shape, Y_torch.shape"
   ]
  },
  {
   "cell_type": "code",
   "execution_count": null,
   "id": "d5354bd4",
   "metadata": {
    "colab": {
     "base_uri": "https://localhost:8080/"
    },
    "id": "d5354bd4",
    "outputId": "7073af09-24fd-4892-c9b4-8fbe624a520f"
   },
   "outputs": [],
   "source": [
    "dataset = TensorDataset(X_torch, Y_torch)\n",
    "len(dataset)"
   ]
  },
  {
   "cell_type": "code",
   "execution_count": null,
   "id": "3f9dbc20",
   "metadata": {
    "colab": {
     "base_uri": "https://localhost:8080/"
    },
    "id": "3f9dbc20",
    "outputId": "345abdc7-7c45-45a3-9673-ae3e32d00126"
   },
   "outputs": [],
   "source": [
    "val_size = 10000\n",
    "train_size = len(dataset) - val_size\n",
    "\n",
    "train_ds, val_ds = random_split(dataset, [train_size, val_size])\n",
    "len(train_ds), len(val_ds)"
   ]
  },
  {
   "cell_type": "code",
   "execution_count": null,
   "id": "ae6d5c0a",
   "metadata": {
    "colab": {
     "base_uri": "https://localhost:8080/"
    },
    "id": "ae6d5c0a",
    "outputId": "7ecd576f-d526-4957-d314-3018ae07f7eb"
   },
   "outputs": [],
   "source": [
    "test_df = df.iloc[80000:, :-1]\n",
    "test_numpy = test_df.values.reshape(test_df.shape[0], 32, 32, 1)\n",
    "test_torch = torch.tensor(test_numpy, dtype=torch.float32)\n",
    "test_torch.shape"
   ]
  },
  {
   "cell_type": "code",
   "execution_count": null,
   "id": "5446ea18",
   "metadata": {
    "id": "5446ea18"
   },
   "outputs": [],
   "source": [
    "train_dl = dataloader.DataLoader(\n",
    "    train_ds,\n",
    "    BATCH_SIZE,\n",
    "    shuffle=True,\n",
    "    num_workers=2,\n",
    "    pin_memory=True,\n",
    ")\n",
    "\n",
    "val_dl = dataloader.DataLoader(\n",
    "    val_ds,\n",
    "    BATCH_SIZE*2,\n",
    "    shuffle=True,\n",
    "    num_workers=2,\n",
    "    pin_memory=True,\n",
    ")\n",
    "\n",
    "test_dl = dataloader.DataLoader(\n",
    "    test_torch,\n",
    "    BATCH_SIZE*4,\n",
    "    shuffle=True,\n",
    "    num_workers=2,\n",
    ")"
   ]
  },
  {
   "cell_type": "code",
   "execution_count": null,
   "id": "225d19de",
   "metadata": {
    "colab": {
     "base_uri": "https://localhost:8080/"
    },
    "id": "225d19de",
    "outputId": "5bde8662-cbde-41ca-e7c4-2f46345a46b8"
   },
   "outputs": [],
   "source": [
    "for images, labels in train_dl:\n",
    "    print(f'Shape of Images: {images.shape}')\n",
    "    print(f'Shape of Labels: {labels.shape}')\n",
    "    break"
   ]
  },
  {
   "cell_type": "code",
   "execution_count": null,
   "id": "c64a02b8",
   "metadata": {
    "id": "c64a02b8"
   },
   "outputs": [],
   "source": [
    "def accuracy(outputs, labels):\n",
    "    _, preds = torch.max(outputs, dim=1)\n",
    "    return torch.tensor(\n",
    "        torch.sum(preds==labels).item()/len(preds)\n",
    "    )"
   ]
  },
  {
   "cell_type": "code",
   "execution_count": null,
   "id": "1f56abde",
   "metadata": {
    "id": "1f56abde"
   },
   "outputs": [],
   "source": [
    "class OcrModel(nn.Module):\n",
    "    def __init__(self, input_size, output_size):\n",
    "        super().__init__()\n",
    "        self.linear1 = nn.Linear(input_size, 512)\n",
    "        self.linear2 = nn.Linear(512, 256)\n",
    "        self.linear3 = nn.Linear(256, 128)\n",
    "        self.linear4 = nn.Linear(128, 64)\n",
    "        self.linear5 = nn.Linear(64, 46)\n",
    "        self.dropout = nn.Dropout(0.1)\n",
    "        self.log_softmax = F.log_softmax\n",
    "        self.loss = nn.CrossEntropyLoss()\n",
    "        \n",
    "    def forward(self, xb):\n",
    "        xb = xb.view(xb.size(0), -1)\n",
    "        x = self.dropout(F.relu(self.linear1(xb)))\n",
    "        x = self.dropout(F.relu(self.linear2(x)))\n",
    "        x = self.dropout(F.relu(self.linear3(x)))\n",
    "        x = self.dropout(F.relu(self.linear4(x)))\n",
    "        return self.log_softmax(self.linear5(x), dim=1)\n",
    "    \n",
    "    def training_step(self, batch):\n",
    "        self.train()\n",
    "        images, labels = batch\n",
    "        out = self(images)\n",
    "        return self.loss(out, labels)\n",
    "    \n",
    "    def validation_step(self, batch):\n",
    "        with torch.no_grad():\n",
    "            self.eval()\n",
    "            images, labels = batch\n",
    "            out = self(images)\n",
    "            loss = F.cross_entropy(out, labels)\n",
    "            acc = accuracy(out, labels)\n",
    "            return {'valid_loss': loss, 'valid_accuracy': acc}\n",
    "    \n",
    "    def validation_epoch_end(self, outputs):\n",
    "        batch_losses = [x['valid_loss'] for x in outputs]\n",
    "        epoch_loss = torch.stack(batch_losses).mean()\n",
    "        batch_accs = [x['valid_accuracy'] for x in outputs]\n",
    "        epoch_acc = torch.stack(batch_accs).mean()\n",
    "        return {\n",
    "            'val_loss': epoch_loss.item(),\n",
    "            'val_acc': epoch_acc.item()\n",
    "        }\n",
    "        \n",
    "    def evaluate(self, val_loader):\n",
    "        outputs = [\n",
    "            self.validation_step(batch) for batch in val_loader\n",
    "        ]\n",
    "        return self.validation_epoch_end(outputs)\n",
    "    \n",
    "    def epoch_end(self, epoch, result):\n",
    "        print(\"Epoch [{}], val_loss: {:.4f}, val_acc: {:.4f}\".format(epoch, result['val_loss'], result['val_acc']))"
   ]
  },
  {
   "cell_type": "code",
   "execution_count": null,
   "id": "cab96417",
   "metadata": {
    "colab": {
     "base_uri": "https://localhost:8080/"
    },
    "id": "cab96417",
    "outputId": "3467fb11-7765-47c8-da50-621f2a742184"
   },
   "outputs": [],
   "source": [
    "model = OcrModel(INPUT_SIZE, OUTPUT_SIZE)\n",
    "model"
   ]
  },
  {
   "cell_type": "code",
   "execution_count": null,
   "id": "5329369a",
   "metadata": {
    "colab": {
     "base_uri": "https://localhost:8080/"
    },
    "id": "5329369a",
    "outputId": "9d48adfc-872a-48fc-d319-2eb5c79288be"
   },
   "outputs": [],
   "source": [
    "for param in model.parameters():\n",
    "    print(param.shape)"
   ]
  },
  {
   "cell_type": "code",
   "execution_count": null,
   "id": "5124d4ce",
   "metadata": {
    "id": "5124d4ce"
   },
   "outputs": [],
   "source": [
    "def to_device(data, device):\n",
    "    if isinstance(data, (list, tuple)):\n",
    "        return [to_device(x, device) for x in data]\n",
    "    return data.to(device, non_blocking=True)"
   ]
  },
  {
   "cell_type": "code",
   "execution_count": null,
   "id": "4982b0e8",
   "metadata": {
    "id": "4982b0e8"
   },
   "outputs": [],
   "source": [
    "class DeviceDataLoader():\n",
    "    def __init__(self, dl, device):\n",
    "        self.dl = dl\n",
    "        self.device = device\n",
    "    \n",
    "    def __iter__(self):\n",
    "        for b in self.dl:\n",
    "            yield to_device(b, self.device)\n",
    "            \n",
    "    def __len__(self):\n",
    "        return len(self.dl)"
   ]
  },
  {
   "cell_type": "code",
   "execution_count": null,
   "id": "eab0c539",
   "metadata": {
    "id": "eab0c539"
   },
   "outputs": [],
   "source": [
    "train_device_loader = DeviceDataLoader(train_dl, device)\n",
    "val_device_loader = DeviceDataLoader(val_dl, device)\n",
    "test_device_loader = DeviceDataLoader(test_dl, device)"
   ]
  },
  {
   "cell_type": "code",
   "execution_count": null,
   "id": "8c9a1f53",
   "metadata": {
    "id": "8c9a1f53"
   },
   "outputs": [],
   "source": [
    "def fit(epochs, lr, model, train_loader, val_loader, opt_func=torch.optim.Adam):\n",
    "    history = []\n",
    "    optimizer = opt_func(model.parameters(), lr)\n",
    "    for epoch in range(epochs):\n",
    "        for batch in train_loader:\n",
    "            loss = model.training_step(batch)\n",
    "            loss.backward()\n",
    "            optimizer.step()\n",
    "            optimizer.zero_grad()\n",
    "        result = model.evaluate(val_device_loader)\n",
    "        model.epoch_end(epoch, result)\n",
    "        history.append(result)\n",
    "    return history"
   ]
  },
  {
   "cell_type": "code",
   "execution_count": null,
   "id": "40b276fa",
   "metadata": {
    "colab": {
     "base_uri": "https://localhost:8080/"
    },
    "id": "40b276fa",
    "outputId": "df18d8f0-994d-487a-dd76-1210650a4991"
   },
   "outputs": [],
   "source": [
    "model = OcrModel(INPUT_SIZE, OUTPUT_SIZE)\n",
    "model.to(device, non_blocking=True)"
   ]
  },
  {
   "cell_type": "code",
   "execution_count": null,
   "id": "1d9d4f8e",
   "metadata": {
    "colab": {
     "base_uri": "https://localhost:8080/"
    },
    "id": "1d9d4f8e",
    "outputId": "ce7c9eec-c662-4f7e-ded1-f085ee367740"
   },
   "outputs": [],
   "source": [
    "history = model.evaluate(val_device_loader)\n",
    "print(history)"
   ]
  },
  {
   "cell_type": "code",
   "execution_count": null,
   "id": "c82fc4eb",
   "metadata": {
    "colab": {
     "base_uri": "https://localhost:8080/"
    },
    "id": "c82fc4eb",
    "outputId": "21a42360-4375-4411-c057-ad3f9806ef04",
    "scrolled": true
   },
   "outputs": [],
   "source": [
    "history = fit(EPOCHS, LR, model, train_device_loader, val_device_loader)"
   ]
  },
  {
   "cell_type": "code",
   "execution_count": null,
   "id": "f2159f98",
   "metadata": {
    "id": "f2159f98"
   },
   "outputs": [],
   "source": [
    "torch.save(model.state_dict(), MODEL_PATH)"
   ]
  },
  {
   "cell_type": "code",
   "execution_count": null,
   "id": "b97a21a5",
   "metadata": {
    "colab": {
     "base_uri": "https://localhost:8080/"
    },
    "id": "b97a21a5",
    "outputId": "c6ec5f77-dc7a-4065-a7d1-4b9d5e790a5b"
   },
   "outputs": [],
   "source": [
    "trained_model = OcrModel(INPUT_SIZE, OUTPUT_SIZE)\n",
    "trained_model.load_state_dict(torch.load(MODEL_PATH ))\n",
    "trained_model.to(device)"
   ]
  },
  {
   "cell_type": "code",
   "execution_count": null,
   "id": "83558a35",
   "metadata": {
    "id": "83558a35"
   },
   "outputs": [],
   "source": [
    "def test(image, model, class_names):\n",
    "    model.eval()\n",
    "    outputs = model(image)\n",
    "    pred_val, pred_idx = torch.max(outputs, dim=1)\n",
    "    print(f'predicted class label is: {class_names[pred_idx.item()]}')\n",
    "    plt.imshow(test_numpy[rand_idx].squeeze(), cmap='gray')\n",
    "    plt.title(class_names[pred_idx.item()])\n",
    "    plt.axis('off')"
   ]
  },
  {
   "cell_type": "code",
   "execution_count": null,
   "id": "f7dceb2f",
   "metadata": {
    "colab": {
     "base_uri": "https://localhost:8080/",
     "height": 282
    },
    "id": "f7dceb2f",
    "outputId": "72ae47b6-6005-4089-889d-3de2638c4fd7"
   },
   "outputs": [],
   "source": [
    "rand_idx = random.randint(0, 12000)\n",
    "test(test_torch[rand_idx].view(1, 32, 32, 1), trained_model, class_names)"
   ]
  },
  {
   "cell_type": "code",
   "execution_count": null,
   "id": "x9hvk1ZH_Pvj",
   "metadata": {
    "id": "x9hvk1ZH_Pvj"
   },
   "outputs": [],
   "source": [
    "def test_scores(model, val_dl):\n",
    "    preds = true_labels = None\n",
    "    for images, labels in val_dl:\n",
    "        with torch.no_grad():\n",
    "            model.eval()\n",
    "            preds = model(images)\n",
    "            true_labels = labels\n",
    "            break\n",
    "    return preds, true_labels"
   ]
  },
  {
   "cell_type": "code",
   "execution_count": null,
   "id": "vXupqTVvAcM3",
   "metadata": {
    "colab": {
     "base_uri": "https://localhost:8080/"
    },
    "id": "vXupqTVvAcM3",
    "outputId": "29843931-0cd2-4ff5-da03-edc763380f4c"
   },
   "outputs": [],
   "source": [
    "preds, true_labels = test_scores(trained_model, val_device_loader)\n",
    "conf_mat = torchmetrics.ConfusionMatrix(task='multiclass', num_classes=46)\n",
    "torch.set_printoptions(threshold=10_000)\n",
    "conf_mat(preds.cpu(), true_labels.cpu())"
   ]
  },
  {
   "cell_type": "code",
   "execution_count": null,
   "id": "4800cb8c",
   "metadata": {
    "id": "4800cb8c"
   },
   "outputs": [],
   "source": [
    "def load_test_image(img_path, model, class_names):\n",
    "    image = cv2.imread(img_path)\n",
    "    gray = cv2.cvtColor(image, cv2.COLOR_BGR2GRAY)\n",
    "    gray_res = cv2.resize(gray, dsize=(32, 32), interpolation=cv2.INTER_CUBIC)\n",
    "    gray_res = gray_res.reshape(1, 32, 32, 1)\n",
    "    image = torch.tensor(gray_res, dtype=torch.float32)\n",
    "    model.eval()\n",
    "    outputs = model(image)\n",
    "    pred_val, pred_idx = torch.max(outputs, dim=1)\n",
    "    print(f'predicted class label is: {class_names[pred_idx.item()]}')\n",
    "    plt.imshow(gray_res.reshape(32, 32), cmap='gray')\n",
    "    plt.title(class_names[pred_idx.item()])\n",
    "    plt.axis('off')"
   ]
  },
  {
   "cell_type": "code",
   "execution_count": null,
   "id": "c0efa8a4",
   "metadata": {
    "id": "c0efa8a4"
   },
   "outputs": [],
   "source": [
    "# load_test_image('test_images/', trained_model, class_names)"
   ]
  },
  {
   "cell_type": "code",
   "execution_count": null,
   "id": "R6RiBSa0EfPd",
   "metadata": {
    "id": "R6RiBSa0EfPd"
   },
   "outputs": [],
   "source": []
  }
 ],
 "metadata": {
  "accelerator": "GPU",
  "colab": {
   "provenance": []
  },
  "gpuClass": "standard",
  "kernelspec": {
   "display_name": "Python 3 (ipykernel)",
   "language": "python",
   "name": "python3"
  },
  "language_info": {
   "codemirror_mode": {
    "name": "ipython",
    "version": 3
   },
   "file_extension": ".py",
   "mimetype": "text/x-python",
   "name": "python",
   "nbconvert_exporter": "python",
   "pygments_lexer": "ipython3",
   "version": "3.10.8"
  }
 },
 "nbformat": 4,
 "nbformat_minor": 5
}
